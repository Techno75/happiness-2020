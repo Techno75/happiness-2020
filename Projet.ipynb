{
 "cells": [
  {
   "cell_type": "code",
   "execution_count": 2,
   "metadata": {},
   "outputs": [],
   "source": [
    "import pandas as pd\n",
    "import numpy as np\n",
    "import sklearn\n",
    "import seaborn as sns\n",
    "import matplotlib.pyplot as plt\n",
    "from sklearn.model_selection import train_test_split\n",
    "%matplotlib inline"
   ]
  },
  {
   "cell_type": "markdown",
   "metadata": {},
   "source": [
    "# Imported les données"
   ]
  },
  {
   "cell_type": "code",
   "execution_count": 6,
   "metadata": {},
   "outputs": [],
   "source": [
    "countries = pd.read_csv(\"2020.csv\")"
   ]
  },
  {
   "cell_type": "code",
   "execution_count": 7,
   "metadata": {},
   "outputs": [
    {
     "name": "stdout",
     "output_type": "stream",
     "text": [
      "                 Country name  Regional indicator  Ladder score  \\\n",
      "0                     Finland      Western Europe        7.8087   \n",
      "1                     Denmark      Western Europe        7.6456   \n",
      "2                 Switzerland      Western Europe        7.5599   \n",
      "3                     Iceland      Western Europe        7.5045   \n",
      "4                      Norway      Western Europe        7.4880   \n",
      "..                        ...                 ...           ...   \n",
      "148  Central African Republic  Sub-Saharan Africa        3.4759   \n",
      "149                    Rwanda  Sub-Saharan Africa        3.3123   \n",
      "150                  Zimbabwe  Sub-Saharan Africa        3.2992   \n",
      "151               South Sudan  Sub-Saharan Africa        2.8166   \n",
      "152               Afghanistan          South Asia        2.5669   \n",
      "\n",
      "     Standard error of ladder score  upperwhisker  lowerwhisker  \\\n",
      "0                          0.031156      7.869766      7.747634   \n",
      "1                          0.033492      7.711245      7.579955   \n",
      "2                          0.035014      7.628528      7.491272   \n",
      "3                          0.059616      7.621347      7.387653   \n",
      "4                          0.034837      7.556281      7.419719   \n",
      "..                              ...           ...           ...   \n",
      "148                        0.115183      3.701658      3.250141   \n",
      "149                        0.052425      3.415053      3.209547   \n",
      "150                        0.058674      3.414202      3.184198   \n",
      "151                        0.107610      3.027516      2.605684   \n",
      "152                        0.031311      2.628270      2.505530   \n",
      "\n",
      "     Logged GDP per capita  Social support  Healthy life expectancy  \\\n",
      "0                10.639267        0.954330                71.900825   \n",
      "1                10.774001        0.955991                72.402504   \n",
      "2                10.979933        0.942847                74.102448   \n",
      "3                10.772559        0.974670                73.000000   \n",
      "4                11.087804        0.952487                73.200783   \n",
      "..                     ...             ...                      ...   \n",
      "148               6.625160        0.319460                45.200001   \n",
      "149               7.600104        0.540835                61.098846   \n",
      "150               7.865712        0.763093                55.617260   \n",
      "151               7.425360        0.553707                51.000000   \n",
      "152               7.462861        0.470367                52.590000   \n",
      "\n",
      "     Freedom to make life choices  Generosity  Perceptions of corruption  \\\n",
      "0                        0.949172   -0.059482                   0.195445   \n",
      "1                        0.951444    0.066202                   0.168489   \n",
      "2                        0.921337    0.105911                   0.303728   \n",
      "3                        0.948892    0.246944                   0.711710   \n",
      "4                        0.955750    0.134533                   0.263218   \n",
      "..                            ...         ...                        ...   \n",
      "148                      0.640881    0.082410                   0.891807   \n",
      "149                      0.900589    0.055484                   0.183541   \n",
      "150                      0.711458   -0.072064                   0.810237   \n",
      "151                      0.451314    0.016519                   0.763417   \n",
      "152                      0.396573   -0.096429                   0.933687   \n",
      "\n",
      "     Ladder score in Dystopia  Explained by: Log GDP per capita  \\\n",
      "0                    1.972317                          1.285190   \n",
      "1                    1.972317                          1.326949   \n",
      "2                    1.972317                          1.390774   \n",
      "3                    1.972317                          1.326502   \n",
      "4                    1.972317                          1.424207   \n",
      "..                        ...                               ...   \n",
      "148                  1.972317                          0.041072   \n",
      "149                  1.972317                          0.343243   \n",
      "150                  1.972317                          0.425564   \n",
      "151                  1.972317                          0.289083   \n",
      "152                  1.972317                          0.300706   \n",
      "\n",
      "     Explained by: Social support  Explained by: Healthy life expectancy  \\\n",
      "0                        1.499526                               0.961271   \n",
      "1                        1.503449                               0.979333   \n",
      "2                        1.472403                               1.040533   \n",
      "3                        1.547567                               1.000843   \n",
      "4                        1.495173                               1.008072   \n",
      "..                            ...                                    ...   \n",
      "148                      0.000000                               0.000000   \n",
      "149                      0.522876                               0.572383   \n",
      "150                      1.047835                               0.375038   \n",
      "151                      0.553279                               0.208809   \n",
      "152                      0.356434                               0.266052   \n",
      "\n",
      "     Explained by: Freedom to make life choices  Explained by: Generosity  \\\n",
      "0                                      0.662317                  0.159670   \n",
      "1                                      0.665040                  0.242793   \n",
      "2                                      0.628954                  0.269056   \n",
      "3                                      0.661981                  0.362330   \n",
      "4                                      0.670201                  0.287985   \n",
      "..                                          ...                       ...   \n",
      "148                                    0.292814                  0.253513   \n",
      "149                                    0.604088                  0.235705   \n",
      "150                                    0.377405                  0.151349   \n",
      "151                                    0.065609                  0.209935   \n",
      "152                                    0.000000                  0.135235   \n",
      "\n",
      "     Explained by: Perceptions of corruption  Dystopia + residual  \n",
      "0                                   0.477857             2.762835  \n",
      "1                                   0.495260             2.432741  \n",
      "2                                   0.407946             2.350267  \n",
      "3                                   0.144541             2.460688  \n",
      "4                                   0.434101             2.168266  \n",
      "..                                       ...                  ...  \n",
      "148                                 0.028265             2.860198  \n",
      "149                                 0.485542             0.548445  \n",
      "150                                 0.080929             0.841031  \n",
      "151                                 0.111157             1.378751  \n",
      "152                                 0.001226             1.507236  \n",
      "\n",
      "[153 rows x 20 columns]\n"
     ]
    }
   ],
   "source": [
    "print(countries)"
   ]
  },
  {
   "cell_type": "code",
   "execution_count": null,
   "metadata": {},
   "outputs": [],
   "source": []
  }
 ],
 "metadata": {
  "kernelspec": {
   "display_name": "Python 3",
   "language": "python",
   "name": "python3"
  },
  "language_info": {
   "codemirror_mode": {
    "name": "ipython",
    "version": 3
   },
   "file_extension": ".py",
   "mimetype": "text/x-python",
   "name": "python",
   "nbconvert_exporter": "python",
   "pygments_lexer": "ipython3",
   "version": "3.8.5"
  }
 },
 "nbformat": 4,
 "nbformat_minor": 4
}
